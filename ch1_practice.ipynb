{
 "cells": [
  {
   "cell_type": "markdown",
   "metadata": {},
   "source": [
    "# Chapter 1: LangChain 기초 실습\n",
    "\n",
    "이 노트북은 LangChain의 기본 개념을 실습하기 위한 예제들을 포함합니다."
   ]
  },
  {
   "cell_type": "markdown",
   "metadata": {},
   "source": [
    "## 환경 설정\n",
    "\n",
    "필요한 라이브러리를 import하고 환경 변수를 설정합니다."
   ]
  },
  {
   "cell_type": "code",
   "execution_count": 1,
   "metadata": {},
   "outputs": [],
   "source": [
    "import os\n",
    "from dotenv import load_dotenv\n",
    "\n",
    "# .env 파일에서 환경 변수 로드\n",
    "load_dotenv()\n",
    "\n",
    "# OpenAI API 키 확인\n",
    "if not os.getenv(\"OPENAI_API_KEY\"):\n",
    "    os.environ[\"OPENAI_API_KEY\"] = input(\"OpenAI API Key를 입력하세요: \")"
   ]
  },
  {
   "cell_type": "markdown",
   "metadata": {},
   "source": [
    "## 1. LLM 기본 사용법"
   ]
  },
  {
   "cell_type": "code",
   "execution_count": 2,
   "metadata": {},
   "outputs": [
    {
     "name": "stdout",
     "output_type": "stream",
     "text": [
      "\n",
      "\n",
      "\"파이썬은 배우기 쉽고 다양한 분야에서 활용 가능한 유연한 언어이기 때문에 인기를 끌고 있다.\"\n"
     ]
    }
   ],
   "source": [
    "from langchain_openai import OpenAI\n",
    "\n",
    "# LLM 인스턴스 생성\n",
    "llm = OpenAI(temperature=0.7)\n",
    "\n",
    "# 간단한 질문하기\n",
    "response = llm.invoke(\"파이썬이 인기 있는 이유를 한 문장으로 설명해줘\")\n",
    "print(response)"
   ]
  },
  {
   "cell_type": "markdown",
   "metadata": {},
   "source": [
    "## 2. Chat 모델 사용법"
   ]
  },
  {
   "cell_type": "code",
   "execution_count": 3,
   "metadata": {},
   "outputs": [
    {
     "name": "stdout",
     "output_type": "stream",
     "text": [
      "LangChain은 자연어 처리(NLP) 애플리케이션을 구축하기 위한 프레임워크입니다. 주로 대화형 AI, 챗봇, 지식 기반 시스템 등 다양한 NLP 솔루션을 개발하는 데 사용됩니다. LangChain은 다양한 언어 모델과 데이터 소스를 통합하여 복잡한 작업을 수행할 수 있도록 돕습니다.\n",
      "\n",
      "이 프레임워크는 다음과 같은 주요 기능을 제공합니다:\n",
      "\n",
      "1. **모델 통합**: 여러 언어 모델(예: OpenAI의 GPT, Hugging Face의 Transformers 등)을 쉽게 통합할 수 있도록 지원합니다.\n",
      "2. **데이터 소스**: 다양한 데이터 소스(예: 데이터베이스, API, 파일 등)와 연결하여 정보를 검색하고 사용할 수 있습니다.\n",
      "3. **체인 구성**: 여러 작업을 연결하여 복잡한 프로세스를 구성할 수 있는 체인 구조를 제공합니다.\n",
      "4. **사용자 정의**: 개발자가 자신의 필요에 맞게 기능을 확장하고 사용자 정의할 수 있도록 유연성을 제공합니다.\n",
      "\n",
      "LangChain을 사용하면 개발자는 자연어 처리 애플리케이션을 보다 쉽게 구축하고, 유지 관리할 수 있으며, 다양한 기능을 통합할 수 있습니다.\n"
     ]
    }
   ],
   "source": [
    "from langchain_openai import ChatOpenAI\n",
    "from langchain_core.messages import HumanMessage, SystemMessage\n",
    "\n",
    "# Chat 모델 생성\n",
    "chat = ChatOpenAI(model=\"gpt-4o-mini\", temperature=0.5)\n",
    "\n",
    "# 메시지 리스트로 대화\n",
    "messages = [\n",
    "    SystemMessage(content=\"당신은 친절한 AI 어시스턴트입니다.\"),\n",
    "    HumanMessage(content=\"LangChain이 뭔가요?\")\n",
    "]\n",
    "\n",
    "response = chat.invoke(messages)\n",
    "print(response.content)"
   ]
  },
  {
   "cell_type": "markdown",
   "metadata": {},
   "source": [
    "## 3. 시스템 메시지 활용"
   ]
  },
  {
   "cell_type": "code",
   "execution_count": 4,
   "metadata": {},
   "outputs": [
    {
     "name": "stdout",
     "output_type": "stream",
     "text": [
      "\n",
      "[당신은 셰익스피어 스타일로 말하는 A...]\n",
      "아, 귀하의 물음에 응답하노라. 인공지능이란, 인간의 지혜를 모방하여 사고하고 학습하며 결정을 내리는 기계의 능력이라 할 수 있느니, 마치 기계가 생각하는 듯한 환상을 불러일으키는 기술이로다. \n",
      "\n",
      "이것은 단순한 기계의 작동을 넘어서, 데이터의 바다에서 지식을 추출하고, 패턴을 인식하며, 문제를 해결하는 능력을 지니고 있느니, 마치 한 명의 지혜로운 자가 수많은 정보를 조합하여 참된 진리를 발견하는 것과 같도다. \n",
      "\n",
      "그러므로 인공지능은 인간의 창의력과 지혜를 보조하는 도구로서, 우리의 삶을 풍요롭게 하여 줄 수 있는 잠재력을 지니고 있나니, 그러나 그 사용에 있어 신중함이 필요하도다.\n",
      "--------------------------------------------------\n",
      "\n",
      "[당신은 5살 아이에게 설명하듯이 말하...]\n",
      "인공지능은 컴퓨터나 기계가 사람처럼 생각하고 배우는 능력을 갖는 것을 말해요. 마치 로봇이나 컴퓨터가 우리처럼 문제를 해결하고, 질문에 대답하거나, 게임을 하는 것처럼요. 예를 들어, 너가 좋아하는 게임에서 적이 어떻게 움직이는지 잘 알고 있다면, 그건 인공지능이 똑똑하게 행동하는 거예요. 인공지능은 사람처럼 느끼지는 않지만, 많은 정보를 바탕으로 똑똑하게 일할 수 있어요!\n",
      "--------------------------------------------------\n",
      "\n",
      "[당신은 기술 전문가입니다. 전문 용어...]\n",
      "인공지능(Artificial Intelligence, AI)은 컴퓨터 시스템이 인간의 지능을 모방하여 학습, 추론, 문제 해결, 언어 이해, 패턴 인식 등의 작업을 수행할 수 있도록 하는 기술 및 이론의 집합입니다. AI는 주로 두 가지 주요 범주로 나눌 수 있습니다: \n",
      "\n",
      "1. **약한 인공지능(Weak AI)**: 특정 작업을 수행하는 데 특화된 시스템으로, 예를 들어 음성 인식, 이미지 인식, 추천 시스템 등이 이에 해당합니다. 이러한 시스템은 인간의 인지 능력을 완전히 대체하지는 않지만, 특정 도메인에서 높은 성능을 발휘합니다.\n",
      "\n",
      "2. **강한 인공지능(Strong AI)**: 인간과 유사한 수준의 인지 능력을 갖춘 시스템으로, 일반적인 지능을 가지고 다양한 작업을 수행할 수 있는 AI를 지칭합니다. 현재의 기술 수준에서는 강한 인공지능은 아직 실현되지 않았습니다.\n",
      "\n",
      "AI의 구현 기술로는 머신러닝(Machine Learning), 딥러닝(Deep Learning), 자연어 처리(Natural Language Processing, NLP), 컴퓨터 비전(Computer Vision) 등이 있으며, 이들은 데이터에서 패턴을 학습하고 예측을 수행하는 데 중요한 역할을 합니다. 머신러닝은 통계학적 기법을 활용하여 데이터를 분석하고, 딥러닝은 인공신경망을 사용하여 더욱 복잡한 데이터의 특징을 학습합니다. \n",
      "\n",
      "AI는 다양한 산업 분야에서 활용되고 있으며, 자율주행차, 의료 진단, 금융 서비스, 고객 서비스 자동화 등에서 그 응용 사례가 증가하고 있습니다.\n",
      "--------------------------------------------------\n"
     ]
    }
   ],
   "source": [
    "# 다양한 시스템 메시지 예제\n",
    "personas = [\n",
    "    \"당신은 셰익스피어 스타일로 말하는 AI입니다.\",\n",
    "    \"당신은 5살 아이에게 설명하듯이 말하는 선생님입니다.\",\n",
    "    \"당신은 기술 전문가입니다. 전문 용어를 사용해서 설명하세요.\"\n",
    "]\n",
    "\n",
    "question = \"인공지능이 뭔가요?\"\n",
    "\n",
    "for persona in personas:\n",
    "    messages = [\n",
    "        SystemMessage(content=persona),\n",
    "        HumanMessage(content=question)\n",
    "    ]\n",
    "    response = chat.invoke(messages)\n",
    "    print(f\"\\n[{persona[:20]}...]\")\n",
    "    print(response.content)\n",
    "    print(\"-\" * 50)"
   ]
  },
  {
   "cell_type": "markdown",
   "metadata": {},
   "source": [
    "## 4. Prompt Template 사용"
   ]
  },
  {
   "cell_type": "code",
   "execution_count": 5,
   "metadata": {},
   "outputs": [
    {
     "name": "stdout",
     "output_type": "stream",
     "text": [
      "생성된 프롬프트:\n",
      "\n",
      "다음 주제에 대해 유머러스한 스타일로 100자 이내로 설명해주세요.\n",
      "\n",
      "주제: 머신러닝\n",
      "\n",
      "\n",
      "응답:\n",
      "\n",
      "머신러닝이란, 인간의 뇌를 복제해 만든 컴퓨터가 스스로 학습하고 판단하는 기술이다. 즉, 우리가 노는 것처럼 컴퓨터도 뇌를 쓰며 공부하고 있다는 거다. 그래서 우리랑 똑같이 머리가 나쁜 컴퓨터도 있고, 똑똑한 컴퓨터도 있다. 그리고 머신러닝이란 건 이 똑똑한 컴퓨터들끼리 서로 경쟁하면서 학습하는 거다. 그래서 더 똑똑하게 만들고 싶으면 머신러닝에 더 많은 데이터를 넣어주면 된다. 근데 그게 얼마나 어\n"
     ]
    }
   ],
   "source": [
    "from langchain_core.prompts import PromptTemplate\n",
    "\n",
    "# 프롬프트 템플릿 생성\n",
    "template = \"\"\"\n",
    "다음 주제에 대해 {style} 스타일로 {length}자 이내로 설명해주세요.\n",
    "\n",
    "주제: {topic}\n",
    "\"\"\"\n",
    "\n",
    "prompt = PromptTemplate(\n",
    "    input_variables=[\"style\", \"length\", \"topic\"],\n",
    "    template=template\n",
    ")\n",
    "\n",
    "# 프롬프트 생성\n",
    "final_prompt = prompt.format(\n",
    "    style=\"유머러스한\",\n",
    "    length=\"100\",\n",
    "    topic=\"머신러닝\"\n",
    ")\n",
    "\n",
    "print(\"생성된 프롬프트:\")\n",
    "print(final_prompt)\n",
    "print(\"\\n응답:\")\n",
    "print(llm.invoke(final_prompt))"
   ]
  },
  {
   "cell_type": "markdown",
   "metadata": {},
   "source": [
    "## 5. Chain 만들기"
   ]
  },
  {
   "cell_type": "code",
   "execution_count": 5,
   "metadata": {},
   "outputs": [
    {
     "name": "stdout",
     "output_type": "stream",
     "text": [
      "こんにちは、お会いできて嬉しいです。\n"
     ]
    }
   ],
   "source": [
    "from langchain_core.prompts import ChatPromptTemplate\n",
    "from langchain_core.output_parsers import StrOutputParser\n",
    "\n",
    "# ChatPromptTemplate 생성\n",
    "prompt = ChatPromptTemplate.from_messages([\n",
    "    (\"system\", \"당신은 {language} 번역 전문가입니다.\"),\n",
    "    (\"human\", \"다음을 {language}로 번역해주세요: {text}\")\n",
    "])\n",
    "\n",
    "# Chain 생성\n",
    "chain = prompt | chat | StrOutputParser()\n",
    "\n",
    "# Chain 실행\n",
    "result = chain.invoke({\n",
    "    \"language\": \"일본어\",\n",
    "    \"text\": \"안녕하세요, 만나서 반갑습니다.\"\n",
    "})\n",
    "\n",
    "print(result)"
   ]
  },
  {
   "cell_type": "markdown",
   "metadata": {},
   "source": [
    "## 6. 구조화된 출력"
   ]
  },
  {
   "cell_type": "code",
   "execution_count": 6,
   "metadata": {},
   "outputs": [
    {
     "name": "stdout",
     "output_type": "stream",
     "text": [
      "제목: 인셉션\n",
      "평점: 9.0\n",
      "장점: 독창적인 스토리라인, 비주얼과 특수효과의 완성도, 강렬한 캐릭터들, 심오한 주제와 철학적 질문, 마이클 지아치노의 음악이 분위기를 잘 살림\n",
      "단점: 복잡한 플롯으로 인해 이해하기 어려운 부분이 있을 수 있음, 일부 관객에게는 느린 전개가 지루하게 느껴질 수 있음\n",
      "요약: 크리스토퍼 놀란 감독의 '인셉션'은 꿈과 현실의 경계를 탐구하는 독창적인 SF 스릴러로, 뛰어난 비주얼과 복잡한 플롯이 어우러져 관객에게 깊은 인상을 남긴다. 다소 어려운 주제를 다루고 있지만, 그만큼 많은 생각을 하게 만드는 작품이다.\n"
     ]
    }
   ],
   "source": [
    "from pydantic import BaseModel, Field\n",
    "from typing import List\n",
    "\n",
    "# 출력 스키마 정의\n",
    "class MovieReview(BaseModel):\n",
    "    title: str = Field(description=\"영화 제목\")\n",
    "    rating: float = Field(description=\"평점 (0-10)\")\n",
    "    pros: List[str] = Field(description=\"장점 리스트\")\n",
    "    cons: List[str] = Field(description=\"단점 리스트\")\n",
    "    summary: str = Field(description=\"한 줄 요약\")\n",
    "\n",
    "# 구조화된 출력을 위한 프롬프트\n",
    "structured_prompt = ChatPromptTemplate.from_messages([\n",
    "    (\"system\", \"당신은 영화 평론가입니다. 주어진 영화에 대한 리뷰를 작성하세요.\"),\n",
    "    (\"human\", \"영화 '{movie}'에 대한 리뷰를 작성해주세요.\")\n",
    "])\n",
    "\n",
    "# 구조화된 출력 체인\n",
    "structured_llm = chat.with_structured_output(MovieReview)\n",
    "review_chain = structured_prompt | structured_llm\n",
    "\n",
    "# 실행\n",
    "review = review_chain.invoke({\"movie\": \"인셉션\"})\n",
    "print(f\"제목: {review.title}\")\n",
    "print(f\"평점: {review.rating}\")\n",
    "print(f\"장점: {', '.join(review.pros)}\")\n",
    "print(f\"단점: {', '.join(review.cons)}\")\n",
    "print(f\"요약: {review.summary}\")"
   ]
  },
  {
   "cell_type": "markdown",
   "metadata": {},
   "source": [
    "## 7. 스트리밍"
   ]
  },
  {
   "cell_type": "code",
   "execution_count": 7,
   "metadata": {},
   "outputs": [
    {
     "name": "stdout",
     "output_type": "stream",
     "text": [
      "스트리밍 시작...\n",
      "\n",
      "한때 지구에서 평범한 삶을 살던 소녀, 미나는 우주 여행을 꿈꾸는 소녀였습니다. 그녀는 별과 행성에 대한 책을 읽으며, 언젠가 자신도 우주를 탐험할 날이 오기를 바랐습니다. \n",
      "\n",
      "어느 날, 미나는 우주 탐사선 '스타더스트'의 모집 공고를 발견했습니다. 그녀는 두려움과 설렘을 안고 지원서를 제출했고, 놀랍게도 합격 통지를 받았습니다. 드디어 그녀의 꿈이 현실이 되는 순간이었습니다.\n",
      "\n",
      "탐사선에서의 생활은 상상 이상으로 신비로웠습니다. 미나는 우주에서 반짝이는 별들을 바라보며, 지구에서 느끼지 못했던 자유를 만끽했습니다. 그녀는 다양한 행성을 방문하고, 외계 생명체와의 교류를 통해 새로운 문화를 경험했습니다.\n",
      "\n",
      "하지만 미나가 가장 감명 깊었던 순간은, 한 외계 행성에서 만난 작은 생명체와의 우정이었습니다. 그 생명체는 미나에게 자신의 고향을 보여주었고, 서로의 언어는 통하지 않았지만, 그들의 마음은 서로를 이해할 수 있었습니다.\n",
      "\n",
      "여행이 끝나고 지구로 돌아온 미나는 우주에서의 경험을 통해 자신이 느낀 우정과 사랑의 가치에 대해 깊이 생각하게 되었습니다. 그녀는 이제 단순한 우주 여행자가 아닌, 우주를 이해하고, 연결하는 사람으로 성장했습니다.\n",
      "\n",
      "미나는 다시 지구에서 평범한 삶을 살고 있지만, 그녀의 마음속에는 항상 우주의 별빛이 반짝이고 있습니다. 그녀는 다음 세대의 아이들에게 우주 여행의 꿈을 심어주기 위해, 자신의 이야기를 나누기로 결심했습니다. 그렇게 미나의 우주 여행은 끝났지만, 그녀의 이야기는 계속해서 새로운 꿈을 만들어 가고 있었습니다.\n",
      "\n",
      "스트리밍 완료!\n"
     ]
    }
   ],
   "source": [
    "# 스트리밍 응답\n",
    "streaming_prompt = ChatPromptTemplate.from_messages([\n",
    "    (\"system\", \"당신은 이야기를 들려주는 AI입니다.\"),\n",
    "    (\"human\", \"{topic}에 대한 짧은 이야기를 들려주세요.\")\n",
    "])\n",
    "\n",
    "streaming_chain = streaming_prompt | chat | StrOutputParser()\n",
    "\n",
    "print(\"스트리밍 시작...\\n\")\n",
    "for chunk in streaming_chain.stream({\"topic\": \"우주 여행\"}):\n",
    "    print(chunk, end=\"\", flush=True)\n",
    "print(\"\\n\\n스트리밍 완료!\")"
   ]
  },
  {
   "cell_type": "markdown",
   "metadata": {},
   "source": [
    "## 8. 비동기 처리"
   ]
  },
  {
   "cell_type": "code",
   "execution_count": 8,
   "metadata": {},
   "outputs": [
    {
     "name": "stdout",
     "output_type": "stream",
     "text": [
      "[인공지능]\n",
      "인공지능은 기계가 인간의 지능을 모방하여 학습, 문제 해결, 의사 결정 등을 수행할 수 있도록 하는 기술입니다.\n",
      "\n",
      "[블록체인]\n",
      "블록체인은 데이터를 안전하게 기록하고 공유할 수 있는 분산형 디지털 장부 기술로, 거래의 신뢰성과 투명성을 보장합니다.\n",
      "\n",
      "[양자컴퓨터]\n",
      "양자컴퓨터는 양자 비트를 사용하여 정보를 처리하며, 고전 컴퓨터보다 복잡한 문제를 훨씬 빠르게 해결할 수 있는 가능성을 가진 컴퓨터입니다.\n",
      "\n",
      "[메타버스]\n",
      "메타버스는 가상 현실과 증강 현실 기술을 활용하여 사용자들이 상호작용하고 경험을 공유할 수 있는 3차원 디지털 공간입니다.\n",
      "\n"
     ]
    }
   ],
   "source": [
    "import asyncio\n",
    "\n",
    "async def async_generate(topic):\n",
    "    \"\"\"비동기로 텍스트 생성\"\"\"\n",
    "    prompt = ChatPromptTemplate.from_messages([\n",
    "        (\"human\", \"{topic}에 대해 한 문장으로 설명해주세요.\")\n",
    "    ])\n",
    "    chain = prompt | chat | StrOutputParser()\n",
    "    result = await chain.ainvoke({\"topic\": topic})\n",
    "    return topic, result\n",
    "\n",
    "# 여러 주제를 동시에 처리\n",
    "async def main():\n",
    "    topics = [\"인공지능\", \"블록체인\", \"양자컴퓨터\", \"메타버스\"]\n",
    "    tasks = [async_generate(topic) for topic in topics]\n",
    "    results = await asyncio.gather(*tasks)\n",
    "    \n",
    "    for topic, result in results:\n",
    "        print(f\"[{topic}]\")\n",
    "        print(f\"{result}\\n\")\n",
    "\n",
    "# Jupyter에서 비동기 실행\n",
    "await main()"
   ]
  },
  {
   "cell_type": "markdown",
   "metadata": {},
   "source": [
    "## 9. 메서드 체이닝 예제"
   ]
  },
  {
   "cell_type": "code",
   "execution_count": 9,
   "metadata": {},
   "outputs": [
    {
     "name": "stdout",
     "output_type": "stream",
     "text": [
      "최종 요약:\n",
      "LangChain is a framework designed for creating applications that leverage large language models.\n"
     ]
    }
   ],
   "source": [
    "# 복잡한 체인 만들기\n",
    "from langchain_core.runnables import RunnablePassthrough\n",
    "\n",
    "# 번역 체인\n",
    "translate_prompt = ChatPromptTemplate.from_messages([\n",
    "    (\"system\", \"Translate the following to {language}:\"),\n",
    "    (\"human\", \"{text}\")\n",
    "])\n",
    "\n",
    "# 요약 체인\n",
    "summarize_prompt = ChatPromptTemplate.from_messages([\n",
    "    (\"system\", \"Summarize the following in one sentence:\"),\n",
    "    (\"human\", \"{text}\")\n",
    "])\n",
    "\n",
    "# 복합 체인: 원본 -> 번역 -> 요약\n",
    "complex_chain = (\n",
    "    {\"text\": RunnablePassthrough(), \"language\": RunnablePassthrough()}\n",
    "    | translate_prompt\n",
    "    | chat\n",
    "    | StrOutputParser()\n",
    "    | {\"text\": RunnablePassthrough()}\n",
    "    | summarize_prompt\n",
    "    | chat\n",
    "    | StrOutputParser()\n",
    ")\n",
    "\n",
    "result = complex_chain.invoke({\n",
    "    \"text\": \"LangChain은 대규모 언어 모델을 활용한 애플리케이션 개발을 위한 프레임워크입니다.\",\n",
    "    \"language\": \"English\"\n",
    "})\n",
    "\n",
    "print(\"최종 요약:\")\n",
    "print(result)"
   ]
  },
  {
   "cell_type": "markdown",
   "metadata": {},
   "source": [
    "## 실습 과제\n",
    "\n",
    "아래 셀에서 자유롭게 코드를 작성하고 실험해보세요!"
   ]
  },
  {
   "cell_type": "code",
   "execution_count": null,
   "metadata": {},
   "outputs": [],
   "source": [
    "# 여기에 자신만의 코드를 작성해보세요\n",
    "# 예: 특정 주제에 대한 Q&A 체인 만들기\n",
    "# 예: 다양한 언어로 번역하는 체인 만들기\n",
    "# 예: 감정 분석 체인 만들기\n"
   ]
  }
 ],
 "metadata": {
  "kernelspec": {
   "display_name": "Python 3 (ipykernel)",
   "language": "python",
   "name": "python3"
  },
  "language_info": {
   "codemirror_mode": {
    "name": "ipython",
    "version": 3
   },
   "file_extension": ".py",
   "mimetype": "text/x-python",
   "name": "python",
   "nbconvert_exporter": "python",
   "pygments_lexer": "ipython3",
   "version": "3.12.11"
  }
 },
 "nbformat": 4,
 "nbformat_minor": 4
}
